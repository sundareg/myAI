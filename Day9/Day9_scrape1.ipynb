{
 "cells": [
  {
   "cell_type": "code",
   "execution_count": 25,
   "metadata": {},
   "outputs": [
    {
     "data": {
      "text/plain": [
       "b'<!DOCTYPE html>\\n<html>\\n<head>\\n    <meta charset=\"utf-8\">\\n    <title>Items 1 to 20 -- Example Page 1</title>\\n    <script type=\"text/javascript\">\\n      var _gaq = _gaq || [];\\n      _gaq.push([\\'_setAccount\\', \\'UA-23648880-1\\']);\\n      _gaq.push([\\'_trackPageview\\']);\\n      _gaq.push([\\'_setDomainName\\', \\'econpy.org\\']);\\n    </script>\\n</head>\\n<body>\\n<div align=\"center\">1, <a href=\"http://econpy.pythonanywhere.com/ex/002.html\">[<font color=\"green\">2</font>]</a>, <a href=\"http://econpy.pythonanywhere.com/ex/003.html\">[<font color=\"green\">3</font>]</a>, <a href=\"http://econpy.pythonanywhere.com/ex/004.html\">[<font color=\"green\">4</font>]</a>, <a href=\"http://econpy.pythonanywhere.com/ex/005.html\">[<font color=\"green\">5</font>]</a></div>\\n<div title=\"buyer-info\">\\n  <div title=\"buyer-name\">Carson Busses</div>\\n  <span class=\"item-price\">$29.95</span><br>\\n</div>\\n<div title=\"buyer-info\">\\n  <div title=\"buyer-name\">Earl E. Byrd</div>\\n  <span class=\"item-price\">$8.37</span><br>\\n</div>\\n<div title=\"buyer-info\">\\n  <div title=\"buyer-name\">Patty Cakes</div>\\n  <span class=\"item-price\">$15.26</span><br>\\n</div>\\n<div title=\"buyer-info\">\\n  <div title=\"buyer-name\">Derri Anne Connecticut</div>\\n  <span class=\"item-price\">$19.25</span><br>\\n</div>\\n<div title=\"buyer-info\">\\n  <div title=\"buyer-name\">Moe Dess</div>\\n  <span class=\"item-price\">$19.25</span><br>\\n</div>\\n<div title=\"buyer-info\">\\n  <div title=\"buyer-name\">Leda Doggslife</div>\\n  <span class=\"item-price\">$13.99</span><br>\\n</div>\\n<div title=\"buyer-info\">\\n  <div title=\"buyer-name\">Dan Druff</div>\\n  <span class=\"item-price\">$31.57</span><br>\\n</div>\\n<div title=\"buyer-info\">\\n  <div title=\"buyer-name\">Al Fresco</div>\\n  <span class=\"item-price\">$8.49</span><br>\\n</div>\\n<div title=\"buyer-info\">\\n  <div title=\"buyer-name\">Ido Hoe</div>\\n  <span class=\"item-price\">$14.47</span><br>\\n</div>\\n<div title=\"buyer-info\">\\n  <div title=\"buyer-name\">Howie Kisses</div>\\n  <span class=\"item-price\">$15.86</span><br>\\n</div>\\n<div title=\"buyer-info\">\\n  <div title=\"buyer-name\">Len Lease</div>\\n  <span class=\"item-price\">$11.11</span><br>\\n</div>\\n<div title=\"buyer-info\">\\n  <div title=\"buyer-name\">Phil Meup</div>\\n  <span class=\"item-price\">$15.98</span><br>\\n</div>\\n<div title=\"buyer-info\">\\n  <div title=\"buyer-name\">Ira Pent</div>\\n  <span class=\"item-price\">$16.27</span><br>\\n</div>\\n<div title=\"buyer-info\">\\n  <div title=\"buyer-name\">Ben D. Rules</div>\\n  <span class=\"item-price\">$7.50</span><br>\\n</div>\\n<div title=\"buyer-info\">\\n  <div title=\"buyer-name\">Ave Sectomy</div>\\n  <span class=\"item-price\">$50.85</span><br>\\n</div>\\n<div title=\"buyer-info\">\\n  <div title=\"buyer-name\">Gary Shattire</div>\\n  <span class=\"item-price\">$14.26</span><br>\\n</div>\\n<div title=\"buyer-info\">\\n  <div title=\"buyer-name\">Bobbi Soks</div>\\n  <span class=\"item-price\">$5.68</span><br>\\n</div>\\n<div title=\"buyer-info\">\\n  <div title=\"buyer-name\">Sheila Takya</div>\\n  <span class=\"item-price\">$15.00</span><br>\\n</div>\\n<div title=\"buyer-info\">\\n  <div title=\"buyer-name\">Rose Tattoo</div>\\n  <span class=\"item-price\">$114.07</span><br>\\n</div>\\n<div title=\"buyer-info\">\\n  <div title=\"buyer-name\">Moe Tell</div>\\n  <span class=\"item-price\">$10.09</span><br>\\n</div>\\n  <script type=\"text/javascript\">  (function() {\\n    var ga = document.createElement(\\'script\\');     ga.type = \\'text/javascript\\'; ga.async = true;\\n    ga.src = (\\'https:\\'   == document.location.protocol ? \\'https://ssl\\'   : \\'http://www\\') + \\'.google-analytics.com/ga.js\\';\\n    var s = document.getElementsByTagName(\\'script\\')[0]; s.parentNode.insertBefore(ga, s);\\n    })();\\n  </script>\\n</body>\\n</html>\\n'"
      ]
     },
     "execution_count": 25,
     "metadata": {},
     "output_type": "execute_result"
    }
   ],
   "source": [
    "from lxml import html\n",
    "import requests\n",
    "\n",
    "page = requests.get('http://econpy.pythonanywhere.com/ex/001.html')\n",
    "tree = html.fromstring(page.content)\n",
    "page.content"
   ]
  },
  {
   "cell_type": "code",
   "execution_count": 26,
   "metadata": {},
   "outputs": [
    {
     "name": "stdout",
     "output_type": "stream",
     "text": [
      "Buyers:  ['Carson Busses', 'Earl E. Byrd', 'Patty Cakes', 'Derri Anne Connecticut', 'Moe Dess', 'Leda Doggslife', 'Dan Druff', 'Al Fresco', 'Ido Hoe', 'Howie Kisses', 'Len Lease', 'Phil Meup', 'Ira Pent', 'Ben D. Rules', 'Ave Sectomy', 'Gary Shattire', 'Bobbi Soks', 'Sheila Takya', 'Rose Tattoo', 'Moe Tell']\n",
      "Prices:  ['$29.95', '$8.37', '$15.26', '$19.25', '$19.25', '$13.99', '$31.57', '$8.49', '$14.47', '$15.86', '$11.11', '$15.98', '$16.27', '$7.50', '$50.85', '$14.26', '$5.68', '$15.00', '$114.07', '$10.09']\n"
     ]
    }
   ],
   "source": [
    "#This will create a list of buyers:\n",
    "buyers = tree.xpath('//div[@title=\"buyer-name\"]/text()')\n",
    "#This will create a list of prices\n",
    "prices = tree.xpath('//span[@class=\"item-price\"]/text()')\n",
    "\n",
    "print('Buyers: ', buyers)\n",
    "print('Prices: ', prices)"
   ]
  },
  {
   "cell_type": "code",
   "execution_count": null,
   "metadata": {},
   "outputs": [],
   "source": []
  }
 ],
 "metadata": {
  "kernelspec": {
   "display_name": "Python 3",
   "language": "python",
   "name": "python3"
  },
  "language_info": {
   "codemirror_mode": {
    "name": "ipython",
    "version": 3
   },
   "file_extension": ".py",
   "mimetype": "text/x-python",
   "name": "python",
   "nbconvert_exporter": "python",
   "pygments_lexer": "ipython3",
   "version": "3.7.1"
  }
 },
 "nbformat": 4,
 "nbformat_minor": 2
}
