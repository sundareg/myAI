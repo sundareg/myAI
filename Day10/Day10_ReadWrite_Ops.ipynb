{
 "cells": [
  {
   "cell_type": "code",
   "execution_count": 5,
   "metadata": {},
   "outputs": [
    {
     "name": "stdout",
     "output_type": "stream",
     "text": [
      "Pug\\r\\n\n",
      "Jack Russell Terrier\\r\\n\n",
      "English Springer Spaniel\\r\\n\n",
      "German Shepherd\\r\\n\n",
      "Staffordshire Bull\n"
     ]
    }
   ],
   "source": [
    "# TEXT FILES\n",
    "\n",
    "#open(), read(), write(), and close()\n",
    "\n",
    "data_folder = 'C:\\\\Users\\\\sunda\\\\Desktop\\\\AI Course\\\\Day10\\\\'\n",
    "data_file = 'mytext.txt'\n",
    "\n",
    "#Open function\n",
    "f = open(data_folder+data_file)\n",
    "\n",
    "#Read function\n",
    "contents = f.read()\n",
    "\n",
    "#the following command will print the first 1000 characters:\n",
    "print(contents[:100])\n",
    "\n",
    "#Close function\n",
    "f.close()\n",
    "\n",
    "#if the TXT files contain numeric data, it is better to use NumPy; if data is mixed, pandas is the best choice.\n"
   ]
  },
  {
   "cell_type": "code",
   "execution_count": 8,
   "metadata": {},
   "outputs": [
    {
     "name": "stdout",
     "output_type": "stream",
     "text": [
      "['1', 'Eldon Base for stackable storage shelf, platinum', 'Muhammed MacIntyre', '3', '-213.25', '38.94', '35', 'Nunavut', 'Storage & Organization', '0.8']\n",
      "['2', '1.7 Cubic Foot Compact \"Cube\" Office Refrigerators', 'Barry French', '293', '457.81', '208.16', '68.02', 'Nunavut', 'Appliances', '0.58']\n",
      "['3', 'Cardinal Slant-D® Ring Binder, Heavy Gauge Vinyl', 'Barry French', '293', '46.71', '8.69', '2.99', 'Nunavut', 'Binders and Binder Accessories', '0.39']\n",
      "['4', 'R380', 'Clay Rozendal', '483', '1198.97', '195.99', '3.99', 'Nunavut', 'Telephones and Communication', '0.58']\n",
      "['5', 'Holmes HEPA Air Purifier', 'Carlos Soltero', '515', '30.94', '21.78', '5.94', 'Nunavut', 'Appliances', '0.5']\n",
      "['6', 'G.E. Longer-Life Indoor Recessed Floodlight Bulbs', 'Carlos Soltero', '515', '4.43', '6.64', '4.95', 'Nunavut', 'Office Furnishings', '0.37']\n",
      "['7', 'Angle-D Binders with Locking Rings, Label Holders', 'Carl Jackson', '613', '-54.04', '7.3', '7.72', 'Nunavut', 'Binders and Binder Accessories', '0.38']\n",
      "['8', 'SAFCO Mobile Desk Side File, Wire Frame', 'Carl Jackson', '613', '127.70', '42.76', '6.22', 'Nunavut', 'Storage & Organization', '']\n",
      "['9', 'SAFCO Commercial Wire Shelving, Black', 'Monica Federle', '643', '-695.26', '138.14', '35', 'Nunavut', 'Storage & Organization', '']\n",
      "['10', 'Xerox 198', 'Dorothy Badders', '678', '-226.36', '4.98', '8.33', 'Nunavut', 'Paper', '0.38']\n",
      "['11', 'Xerox 1980', 'Neola Schneider', '807', '-166.85', '4.28', '6.18', 'Nunavut', 'Paper', '0.4']\n",
      "['12', 'Advantus Map Pennant Flags and Round Head Tacks', 'Neola Schneider', '807', '-14.33', '3.95', '2', 'Nunavut', 'Rubber Bands', '0.53']\n",
      "['13', 'Holmes HEPA Air Purifier', 'Carlos Daly', '868', '134.72', '21.78', '5.94', 'Nunavut', 'Appliances', '0.5']\n",
      "['14', 'DS/HD IBM Formatted Diskettes, 200/Pack - Staples', 'Carlos Daly', '868', '114.46', '47.98', '3.61', 'Nunavut', 'Computer Peripherals', '0.71']\n",
      "['15', 'Wilson Jones 1\" Hanging DublLock® Ring Binders', 'Claudia Miner', '933', '-4.72', '5.28', '2.99', 'Nunavut', 'Binders and Binder Accessories', '0.37']\n",
      "['16', 'Ultra Commercial Grade Dual Valve Door Closer', 'Neola Schneider', '995', '782.91', '39.89', '3.04', 'Nunavut', 'Office Furnishings', '0.53']\n",
      "['17', '#10-4 1/8\" x 9 1/2\" Premium Diagonal Seam Envelopes', 'Allen Rosenblatt', '998', '93.80', '15.74', '1.39', 'Nunavut', 'Envelopes', '0.4']\n",
      "['18', 'Hon 4-Shelf Metal Bookcases', 'Sylvia Foulston', '1154', '440.72', '100.98', '26.22', 'Nunavut', 'Bookcases', '0.6']\n",
      "['19', 'Lesro Sheffield Collection Coffee Table, End Table, Center Table, Corner Table', 'Sylvia Foulston', '1154', '-481.04', '71.37', '69', 'Nunavut', 'Tables', '0.68']\n",
      "['20', 'g520', 'Jim Radford', '1344', '-11.68', '65.99', '5.26', 'Nunavut', 'Telephones and Communication', '0.59']\n",
      "['21', 'LX 788', 'Jim Radford', '1344', '313.58', '155.99', '8.99', 'Nunavut', 'Telephones and Communication', '0.58']\n",
      "['22', 'Avery 52', 'Carlos Soltero', '1412', '26.92', '3.69', '0.5', 'Nunavut', 'Labels', '0.38']\n",
      "['23', 'Plymouth Boxed Rubber Bands by Plymouth', 'Carlos Soltero', '1412', '-5.77', '4.71', '0.7', 'Nunavut', 'Rubber Bands', '0.8']\n",
      "['24', 'GBC Pre-Punched Binding Paper, Plastic, White, 8-1/2\" x 11\"', 'Carl Ludwig', '1539', '-172.88', '15.99', '13.18', 'Nunavut', 'Binders and Binder Accessories', '0.37']\n",
      "['25', 'Maxell 3.5\" DS/HD IBM-Formatted Diskettes, 10/Pack', 'Carl Ludwig', '1539', '-144.55', '4.89', '4.93', 'Nunavut', 'Computer Peripherals', '0.66']\n",
      "['26', 'Newell 335', 'Don Miller', '1540', '5.76', '2.88', '0.7', 'Nunavut', 'Pens & Art Supplies', '0.56']\n",
      "['27', 'SANFORD Liquid Accent™ Tank-Style Highlighters', 'Annie Cyprus', '1702', '4.90', '2.84', '0.93', 'Nunavut', 'Pens & Art Supplies', '0.54']\n",
      "['28', 'Canon PC940 Copier', 'Carl Ludwig', '1761', '-547.61', '449.99', '49', 'Nunavut', 'Copiers and Fax', '0.38']\n",
      "['29', 'Tenex Personal Project File with Scoop Front Design, Black', 'Carlos Soltero', '1792', '-5.45', '13.48', '4.51', 'Nunavut', 'Storage & Organization', '0.59']\n",
      "['30', 'Col-Erase® Pencils with Erasers', 'Grant Carroll', '2275', '41.67', '6.08', '1.17', 'Nunavut', 'Pens & Art Supplies', '0.56']\n",
      "['31', 'Imation 3.5\" DS/HD IBM Formatted Diskettes, 10/Pack', 'Don Miller', '2277', '-46.03', '5.98', '4.38', 'Nunavut', 'Computer Peripherals', '0.75']\n",
      "['32', 'White Dual Perf Computer Printout Paper, 2700 Sheets, 1 Part, Heavyweight, 20 lbs., 14 7/8 x 11', 'Don Miller', '2277', '33.67', '40.99', '19.99', 'Nunavut', 'Paper', '0.36']\n",
      "['33', 'Self-Adhesive Address Labels for Typewriters by Universal', 'Alan Barnes', '2532', '140.01', '7.31', '0.49', 'Nunavut', 'Labels', '0.38']\n",
      "['34', 'Accessory37', 'Alan Barnes', '2532', '-78.96', '20.99', '2.5', 'Nunavut', 'Telephones and Communication', '0.81']\n",
      "['35', 'Fuji 5.2GB DVD-RAM', 'Jack Garza', '2631', '252.66', '40.96', '1.99', 'Nunavut', 'Computer Peripherals', '0.55']\n",
      "['36', 'Bevis Steel Folding Chairs', 'Julia West', '2757', '-1766.01', '95.95', '74.35', 'Nunavut', 'Chairs & Chairmats', '0.57']\n",
      "['37', 'Avery Binder Labels', 'Eugene Barchas', '2791', '-236.27', '3.89', '7.01', 'Nunavut', 'Binders and Binder Accessories', '0.37']\n",
      "['38', 'Hon Every-Day® Chair Series Swivel Task Chairs', 'Eugene Barchas', '2791', '80.44', '120.98', '30', 'Nunavut', 'Chairs & Chairmats', '0.64']\n",
      "['39', 'IBM Multi-Purpose Copy Paper, 8 1/2 x 11\", Case', 'Eugene Barchas', '2791', '118.94', '30.98', '5.76', 'Nunavut', 'Paper', '0.4']\n",
      "['40', 'Global Troy™ Executive Leather Low-Back Tilter', 'Edward Hooks', '2976', '3424.22', '500.98', '26', 'Nunavut', 'Chairs & Chairmats', '0.6']\n",
      "['41', 'XtraLife® ClearVue™ Slant-D® Ring Binders by Cardinal', 'Brad Eason', '3232', '-11.83', '7.84', '4.71', 'Nunavut', 'Binders and Binder Accessories', '0.35']\n",
      "['42', 'Computer Printout Paper with Letter-Trim Perforations', 'Nicole Hansen', '3524', '52.35', '18.97', '9.03', 'Nunavut', 'Paper', '0.37']\n",
      "['43', '6160', 'Dorothy Wardle', '3908', '-180.20', '115.99', '2.5', 'Nunavut', 'Telephones and Communication', '0.57']\n",
      "['44', 'Avery 49', 'Aaron Bergman', '4132', '1.32', '2.88', '0.5', 'Nunavut', 'Labels', '0.36']\n",
      "['45', 'Hoover Portapower™ Portable Vacuum', 'Jim Radford', '4612', '-375.64', '4.48', '49', 'Nunavut', 'Appliances', '0.6']\n",
      "['46', 'Timeport L7089', 'Annie Cyprus', '4676', '-104.25', '125.99', '7.69', 'Nunavut', 'Telephones and Communication', '0.58']\n",
      "['47', 'Avery 510', 'Annie Cyprus', '4676', '85.96', '3.75', '0.5', 'Nunavut', 'Labels', '0.37']\n",
      "['48', 'Xerox 1881', 'Annie Cyprus', '4676', '-8.38', '12.28', '6.47', 'Nunavut', 'Paper', '0.38']\n",
      "['49', 'LX 788', 'Annie Cyprus', '4676', '1115.69', '155.99', '8.99', 'Nunavut', 'Telephones and Communication', '0.58']\n",
      "['50', 'Cardinal Slant-D® Ring Binder, Heavy Gauge Vinyl', 'Annie Cyprus', '5284', '-3.05', '8.69', '2.99', 'Nunavut', 'Binders and Binder Accessories', '0.39']\n",
      "['51', 'Memorex 4.7GB DVD-RAM, 3/Pack', 'Clay Rozendal', '5316', '514.07', '31.78', '1.99', 'Nunavut', 'Computer Peripherals', '0.42']\n",
      "['52', 'Unpadded Memo Slips', 'Don Jones', '5409', '-7.04', '3.98', '2.97', 'Nunavut', 'Paper', '0.35']\n",
      "['53', 'Adams Telephone Message Book W/Dividers/Space For Phone Numbers, 5 1/4\"X8 1/2\", 300/Messages', 'Beth Thompson', '5506', '4.41', '5.88', '3.04', 'Nunavut', 'Paper', '0.36']\n",
      "['54', 'Eldon Expressions™ Desk Accessory, Wood Pencil Holder, Oak', 'Frank Price', '5569', '-0.06', '9.65', '6.22', 'Nunavut', 'Office Furnishings', '0.55']\n",
      "['55', 'Bell Sonecor JB700 Caller ID', 'Michelle Lonsdale', '5607', '-50.33', '7.99', '5.03', 'Nunavut', 'Telephones and Communication', '0.6']\n",
      "['56', 'Avery Arch Ring Binders', 'Ann Chong', '5894', '87.68', '58.1', '1.49', 'Nunavut', 'Binders and Binder Accessories', '0.38']\n",
      "['57', 'APC 7 Outlet Network SurgeArrest Surge Protector', 'Ann Chong', '5894', '-68.22', '80.48', '4.5', 'Nunavut', 'Appliances', '0.55']\n",
      "['58', 'Deflect-o RollaMat Studded, Beveled Mat for Medium Pile Carpeting', 'Joy Bell', '5925', '-354.90', '92.23', '39.61', 'Nunavut', 'Office Furnishings', '0.67']\n",
      "['59', 'Accessory4', 'Joy Bell', '5925', '-267.01', '85.99', '0.99', 'Nunavut', 'Telephones and Communication', '0.85']\n",
      "['60', 'Personal Creations™ Ink Jet Cards and Labels', 'Skye Norling', '6016', '3.63', '11.48', '5.43', 'Nunavut', 'Paper', '0.36']\n",
      "['61', 'High Speed Automatic Electric Letter Opener', 'Barry Weirich', '6116', '-1759.58', '1637.53', '24.49', 'Nunavut', 'Scissors, Rulers and Trimmers', '0.81']\n",
      "['62', 'Xerox 1966', 'Grant Carroll', '6182', '-116.79', '6.48', '6.65', 'Nunavut', 'Paper', '0.36']\n",
      "['63', 'Xerox 213', 'Grant Carroll', '6182', '-67.28', '6.48', '7.86', 'Nunavut', 'Paper', '0.37']\n",
      "['64', 'Boston Electric Pencil Sharpener, Model 1818, Charcoal Black', 'Adrian Hane', '6535', '-19.33', '28.15', '8.99', 'Nunavut', 'Pens & Art Supplies', '0.57']\n",
      "['65', 'Hammermill CopyPlus Copy Paper (20Lb. and 84 Bright)', 'Skye Norling', '6884', '-61.21', '4.98', '4.75', 'Nunavut', 'Paper', '0.36']\n",
      "['66', 'Telephone Message Books with Fax/Mobile Section, 5 1/2\" x 3 3/16\"', 'Skye Norling', '6884', '119.09', '6.35', '1.02', 'Nunavut', 'Paper', '0.39']\n",
      "['67', 'Crate-A-Files™', 'Andrew Gjertsen', '6916', '-141.27', '10.9', '7.46', 'Nunavut', 'Storage & Organization', '0.59']\n",
      "['68', 'Angle-D Binders with Locking Rings, Label Holders', 'Ralph Knight', '6980', '-77.28', '7.3', '7.72', 'Nunavut', 'Binders and Binder Accessories', '0.38']\n",
      "['69', '80 Minute CD-R Spindle, 100/Pack - Staples', 'Dorothy Wardle', '6982', '407.44', '39.48', '1.99', 'Nunavut', 'Computer Peripherals', '0.54']\n",
      "['70', 'Bush Westfield Collection Bookcases, Dark Cherry Finish, Fully Assembled', 'Dorothy Wardle', '6982', '-338.27', '100.98', '57.38', 'Nunavut', 'Bookcases', '0.78']\n",
      "['71', '12-1/2 Diameter Round Wall Clock', 'Dorothy Wardle', '6982', '52.56', '19.98', '10.49', 'Nunavut', 'Office Furnishings', '0.49']\n",
      "['72', 'SAFCO Arco Folding Chair', 'Grant Carroll', '7110', '1902.24', '276.2', '24.49', 'Nunavut', 'Chairs & Chairmats', '']\n",
      "['73', '#10 White Business Envelopes,4 1/8 x 9 1/2', 'Barry Weirich', '7430', '353.20', '15.67', '1.39', 'Nunavut', 'Envelopes', '0.38']\n",
      "['74', '3M Office Air Cleaner', 'Beth Paige', '7906', '271.78', '25.98', '5.37', 'Nunavut', 'Appliances', '0.5']\n",
      "['75', 'Global Leather and Oak Executive Chair, Black', 'Sylvia Foulston', '8391', '-268.36', '300.98', '64.73', 'Nunavut', 'Chairs & Chairmats', '0.56']\n",
      "['76', 'Xerox 1936', 'Nicole Hansen', '8419', '70.39', '19.98', '5.97', 'Nunavut', 'Paper', '0.38']\n",
      "['77', 'Xerox 214', 'Nicole Hansen', '8419', '-86.62', '6.48', '7.03', 'Nunavut', 'Paper', '0.37']\n",
      "['78', 'Carina Double Wide Media Storage Towers in Natural & Black', 'Nicole Hansen', '8833', '-846.73', '80.98', '35', 'Nunavut', 'Storage & Organization', '0.81']\n",
      "['79', 'Staples® General Use 3-Ring Binders', 'Beth Paige', '8995', '8.05', '1.88', '1.49', 'Nunavut', 'Binders and Binder Accessories', '0.37']\n",
      "['80', 'Xerox 1904', 'Beth Paige', '8995', '-78.02', '6.48', '5.86', 'Northwest Territories', 'Paper', '0.36']\n",
      "['81', 'Luxo Professional Combination Clamp-On Lamps', 'Beth Paige', '8995', '737.94', '102.3', '21.26', 'Northwest Territories', 'Office Furnishings', '0.59']\n",
      "['82', 'Xerox 217', 'Beth Paige', '8995', '-191.28', '6.48', '8.19', 'Northwest Territories', 'Paper', '0.37']\n",
      "['83', 'Revere Boxed Rubber Bands by Revere', 'Beth Paige', '8995', '-21.49', '1.89', '0.76', 'Northwest Territories', 'Rubber Bands', '0.83']\n",
      "['84', 'Acco Smartsocket™ Table Surge Protector, 6 Color-Coded Adapter Outlets', 'Sylvia Foulston', '9126', '884.08', '62.05', '3.99', 'Northwest Territories', 'Appliances', '0.55']\n",
      "['85', 'Tennsco Snap-Together Open Shelving Units, Starter Sets and Add-On Units', 'Bryan Davis', '9127', '-329.49', '279.48', '35', 'Northwest Territories', 'Storage & Organization', '0.8']\n",
      "['86', 'Hon 4070 Series Pagoda™ Round Back Stacking Chairs', 'Joy Bell', '9509', '2825.15', '320.98', '58.95', 'Northwest Territories', 'Chairs & Chairmats', '0.57']\n",
      "['87', 'Xerox 1887', 'Joy Bell', '9509', '2.13', '18.97', '5.21', 'Northwest Territories', 'Paper', '0.37']\n",
      "['88', 'Xerox 1891', 'Joy Bell', '9509', '707.15', '48.91', '5.81', 'Northwest Territories', 'Paper', '0.38']\n",
      "['89', 'Avery 506', 'Alan Barnes', '9763', '75.13', '4.13', '0.5', 'Northwest Territories', 'Labels', '0.39']\n",
      "['90', 'Bush Heritage Pine Collection 5-Shelf Bookcase, Albany Pine Finish, *Special Order', 'Grant Carroll', '9927', '-270.63', '140.98', '53.48', 'Northwest Territories', 'Bookcases', '0.65']\n",
      "['91', 'Lifetime Advantage™ Folding Chairs, 4/Carton', 'Grant Carroll', '9927', '3387.35', '218.08', '18.06', 'Northwest Territories', 'Chairs & Chairmats', '0.57']\n",
      "['92', 'Microsoft Natural Multimedia Keyboard', 'Grant Carroll', '9927', '-82.16', '50.98', '6.5', 'Northwest Territories', 'Computer Peripherals', '0.73']\n",
      "['93', 'Staples Wirebound Steno Books, 6\" x 9\", 12/Pack', 'Delfina Latchford', '10022', '-3.88', '10.14', '2.27', 'Northwest Territories', 'Paper', '0.36']\n",
      "['94', 'GBC Pre-Punched Binding Paper, Plastic, White, 8-1/2\" x 11\"', 'Don Jones', '10437', '-191.22', '15.99', '13.18', 'Northwest Territories', 'Binders and Binder Accessories', '0.37']\n",
      "['95', 'Bevis Boat-Shaped Conference Table', 'Doug Bickford', '10499', '31.21', '262.11', '62.74', 'Northwest Territories', 'Tables', '0.75']\n",
      "['96', 'Linden® 12\" Wall Clock With Oak Frame', 'Doug Bickford', '10535', '-44.14', '33.98', '19.99', 'Northwest Territories', 'Office Furnishings', '0.55']\n",
      "['97', 'Newell 326', 'Doug Bickford', '10535', '-0.79', '1.76', '0.7', 'Northwest Territories', 'Pens & Art Supplies', '0.56']\n",
      "['98', 'Prismacolor Color Pencil Set', 'Jamie Kunitz', '10789', '76.42', '19.84', '4.1', 'Northwest Territories', 'Pens & Art Supplies', '0.44']\n",
      "['99', 'Xerox Blank Computer Paper', 'Anthony Johnson', '10791', '93.36', '19.98', '5.77', 'Northwest Territories', 'Paper', '0.38']\n",
      "['100', '600 Series Flip', 'Ralph Knight', '10945', '4.22', '95.99', '8.99', 'Northwest Territories', 'Telephones and Communication', '0.57']\n"
     ]
    }
   ],
   "source": [
    "# CSV FILES (Using Python CSV library)\n",
    "\n",
    "import csv\n",
    "import os\n",
    "\n",
    "data_folder = 'C:\\\\Users\\\\sunda\\\\Desktop\\\\AI Course\\\\Day10\\\\'\n",
    "data_file = 'mycsv.csv'\n",
    "\n",
    "with open(os.path.join(data_folder,data_file),newline='') as csvfile:\n",
    "   csvreader = csv.reader(csvfile)\n",
    "   for row in csvreader:\n",
    "     print(row)\n"
   ]
  },
  {
   "cell_type": "code",
   "execution_count": 16,
   "metadata": {},
   "outputs": [
    {
     "name": "stdout",
     "output_type": "stream",
     "text": [
      "      1   Eldon Base for stackable storage shelf, platinum Muhammed MacIntyre  \\\n",
      "0     2  1.7 Cubic Foot Compact \"Cube\" Office Refrigera...       Barry French   \n",
      "1     3   Cardinal Slant-D® Ring Binder, Heavy Gauge Vinyl       Barry French   \n",
      "2     4                                               R380      Clay Rozendal   \n",
      "3     5                           Holmes HEPA Air Purifier     Carlos Soltero   \n",
      "4     6  G.E. Longer-Life Indoor Recessed Floodlight Bulbs     Carlos Soltero   \n",
      "..  ...                                                ...                ...   \n",
      "94   96              Linden® 12\" Wall Clock With Oak Frame      Doug Bickford   \n",
      "95   97                                         Newell 326      Doug Bickford   \n",
      "96   98                       Prismacolor Color Pencil Set       Jamie Kunitz   \n",
      "97   99                         Xerox Blank Computer Paper    Anthony Johnson   \n",
      "98  100                                    600 Series Flip       Ralph Knight   \n",
      "\n",
      "        3  -213.25   38.94     35                Nunavut  \\\n",
      "0     293   457.81  208.16  68.02                Nunavut   \n",
      "1     293    46.71    8.69   2.99                Nunavut   \n",
      "2     483  1198.97  195.99   3.99                Nunavut   \n",
      "3     515    30.94   21.78   5.94                Nunavut   \n",
      "4     515     4.43    6.64   4.95                Nunavut   \n",
      "..    ...      ...     ...    ...                    ...   \n",
      "94  10535   -44.14   33.98  19.99  Northwest Territories   \n",
      "95  10535    -0.79    1.76   0.70  Northwest Territories   \n",
      "96  10789    76.42   19.84   4.10  Northwest Territories   \n",
      "97  10791    93.36   19.98   5.77  Northwest Territories   \n",
      "98  10945     4.22   95.99   8.99  Northwest Territories   \n",
      "\n",
      "            Storage & Organization   0.8  \n",
      "0                       Appliances  0.58  \n",
      "1   Binders and Binder Accessories  0.39  \n",
      "2     Telephones and Communication  0.58  \n",
      "3                       Appliances  0.50  \n",
      "4               Office Furnishings  0.37  \n",
      "..                             ...   ...  \n",
      "94              Office Furnishings  0.55  \n",
      "95             Pens & Art Supplies  0.56  \n",
      "96             Pens & Art Supplies  0.44  \n",
      "97                           Paper  0.38  \n",
      "98    Telephones and Communication  0.57  \n",
      "\n",
      "[99 rows x 10 columns]\n"
     ]
    }
   ],
   "source": [
    "#CSV FILES (Using Pandas)\n",
    "\n",
    "import pandas as pd\n",
    "import os\n",
    "data_folder = 'C:\\\\Users\\\\sunda\\\\Desktop\\\\AI Course\\\\Day10\\\\'\n",
    "data_file = 'mycsv.csv'\n",
    "\n",
    "# reading CSV file using Pandas\n",
    "df = pd.read_csv(os.path.join(data_folder,data_file),header=0,encoding = 'unicode_escape')\n",
    "print(df)\n",
    "\n",
    "#The pandas DataFrame can be saved to a CSV file with the to_csv() function:\n",
    "df.to_csv('temp1.csv')\n"
   ]
  },
  {
   "cell_type": "code",
   "execution_count": 29,
   "metadata": {},
   "outputs": [
    {
     "name": "stdout",
     "output_type": "stream",
     "text": [
      "Priting with loadtxt\n",
      "[[ 457.81  208.16]\n",
      " [ 293.     46.71]\n",
      " [1198.97  195.99]\n",
      " [  30.94   21.78]\n",
      " [   4.43    6.64]\n",
      " [ 613.    -54.04]]\n",
      "Priting with genfromtxt\n",
      "[[ 457.81  208.16]\n",
      " [ 293.     46.71]\n",
      " [1198.97  195.99]\n",
      " [  30.94   21.78]\n",
      " [   4.43    6.64]\n",
      " [ 613.    -54.04]]\n"
     ]
    }
   ],
   "source": [
    "# CSV FILES (using NUMPY Library)\n",
    "\n",
    "import numpy as np\n",
    "import os\n",
    "\n",
    "data_folder = 'C:\\\\Users\\\\sunda\\\\Desktop\\\\AI Course\\\\Day10\\\\'\n",
    "data_file = 'mycsv1.csv'\n",
    "\n",
    "# load CSV file using loadtxt function\n",
    "arr = np.loadtxt(os.path.join(data_folder,data_file), skiprows=1, usecols=(4,5), delimiter=',')\n",
    "print ('Priting with loadtxt')\n",
    "print (arr)\n",
    "\n",
    "# load CSV file using genfromtxt function\n",
    "arr1= np.genfromtxt(os.path.join(data_folder,data_file), skip_header=1, usecols=(4,5), delimiter=',')\n",
    "print ('Priting with genfromtxt')\n",
    "print (arr1)\n",
    "\n",
    "# Save to CSV file\n",
    "np.savetxt('temp1.csv', arr, delimiter=',')\n",
    "np.savetxt('temp2.csv', arr1, delimiter=',')"
   ]
  },
  {
   "cell_type": "code",
   "execution_count": 36,
   "metadata": {},
   "outputs": [],
   "source": [
    "# XLSX FILES (using PANDAS Library)\n",
    "\n",
    "import pandas as pd\n",
    "import os\n",
    "\n",
    "data_folder = 'C:\\\\Users\\\\sunda\\\\Desktop\\\\AI Course\\\\Day10\\\\'\n",
    "data_file = 'myxlsx.xlsx'\n",
    "\n",
    "# load XLSX file using loadtxt function\n",
    "df = pd.read_excel(os.path.join(data_folder,data_file), sheet_name='Sample-spreadsheet-file')\n",
    "df.describe()\n",
    "\n",
    "#to save the file\n",
    "df.to_excel(\"otherfile.xlsx\")\n",
    "\n"
   ]
  },
  {
   "cell_type": "code",
   "execution_count": 37,
   "metadata": {},
   "outputs": [
    {
     "name": "stdout",
     "output_type": "stream",
     "text": [
      "1 Eldon Base for stackable storage shelf, platinum Muhammed MacIntyre 3 -213.25 38.94 35 Nunavut Storage & Organization 0.8 "
     ]
    }
   ],
   "source": [
    "# XLSX FILES (using OpenPyXL Library)\n",
    "# https://www.geeksforgeeks.org/python-reading-excel-file-using-openpyxl-module/\n",
    "\n",
    "# importing openpyxl module \n",
    "import openpyxl \n",
    "  \n",
    "# Give the location of the file \n",
    "path = \"C:\\\\Users\\\\sunda\\\\Desktop\\\\AI Course\\\\Day10\\\\myxlsx.xlsx\"\n",
    "  \n",
    "# workbook object is created \n",
    "wb_obj = openpyxl.load_workbook(path) \n",
    "  \n",
    "sheet_obj = wb_obj.active \n",
    "  \n",
    "max_col = sheet_obj.max_column \n",
    "  \n",
    "# Will print a particular row value \n",
    "for i in range(1, max_col + 1): \n",
    "    cell_obj = sheet_obj.cell(row = 2, column = i) \n",
    "    print(cell_obj.value, end = \" \") "
   ]
  },
  {
   "cell_type": "code",
   "execution_count": 41,
   "metadata": {},
   "outputs": [
    {
     "name": "stdout",
     "output_type": "stream",
     "text": [
      "'\"{\\\\\"menu\\\\\": {\\\\n\"'\n",
      "'\"  \\\\\"id\\\\\": \\\\\"file\\\\\",\\\\n\"'\n",
      "'\"  \\\\\"value\\\\\": \\\\\"File\\\\\",\\\\n\"'\n",
      "'\"  \\\\\"popup\\\\\": {\\\\n\"'\n",
      "'\"    \\\\\"menuitem\\\\\": [\\\\n\"'\n",
      "'\"      {\\\\\"value\\\\\": \\\\\"New\\\\\", \\\\\"onclick\\\\\": \\\\\"CreateNewDoc()\\\\\"},\\\\n\"'\n",
      "'\"      {\\\\\"value\\\\\": \\\\\"Open\\\\\", \\\\\"onclick\\\\\": \\\\\"OpenDoc()\\\\\"},\\\\n\"'\n",
      "'\"      {\\\\\"value\\\\\": \\\\\"Close\\\\\", \\\\\"onclick\\\\\": \\\\\"CloseDoc()\\\\\"}\\\\n\"'\n",
      "'\"    ]\\\\n\"'\n",
      "'\"  }\\\\n\"'\n"
     ]
    }
   ],
   "source": [
    "# JSON FILES (using python json)\n",
    "\n",
    "import os\n",
    "import json\n",
    "from pprint import pprint\n",
    "\n",
    "data_folder = 'C:\\\\Users\\\\sunda\\\\Desktop\\\\AI Course\\\\Day10\\\\'\n",
    "data_file = 'json1.json'\n",
    "\n",
    "with open(os.path.join(data_folder,data_file)) as json_file:\n",
    "    for line,i in zip(json_file,range(10)):\n",
    "        json_data = json.dumps(line).replace(\"'\", '\"')\n",
    "        pprint(json_data)\n"
   ]
  },
  {
   "cell_type": "code",
   "execution_count": 50,
   "metadata": {},
   "outputs": [
    {
     "name": "stdout",
     "output_type": "stream",
     "text": [
      "                                                   glossary\n",
      "GlossDiv  {'title': 'S', 'GlossList': {'GlossEntry': {'I...\n",
      "title                                      example glossary\n"
     ]
    }
   ],
   "source": [
    "# JSON FILES (Using Pandas)\n",
    "\n",
    "import pandas as pd\n",
    "import os\n",
    "\n",
    "data_folder = 'C:\\\\Users\\\\sunda\\\\Desktop\\\\AI Course\\\\Day10\\\\'\n",
    "data_file = 'myjson.json'\n",
    "\n",
    "# read JSON file \n",
    "df1 = pd.read_json(os.path.join(data_folder,data_file))\n",
    "print(df1)\n"
   ]
  },
  {
   "cell_type": "code",
   "execution_count": 4,
   "metadata": {},
   "outputs": [
    {
     "name": "stdout",
     "output_type": "stream",
     "text": [
      "Database created and Successfully Connected to SQLite\n",
      "The SQLite connection is closed\n"
     ]
    }
   ],
   "source": [
    "# SQLITE3 File read\n",
    "\n",
    "import sqlite3 \n",
    "import pandas as pd\n",
    "\n",
    "try:\n",
    "    sqliteConnection = sqlite3.connect('C:\\\\Users\\\\sunda\\\\Desktop\\\\AI Course\\\\Day10\\\\Northwind_small.sqlite')\n",
    "    cursor = sqliteConnection.cursor()\n",
    "    print(\"Database created and Successfully Connected to SQLite\")\n",
    "\n",
    "    #sqlite_select_Query = \"select sqlite_version();\"\n",
    "    #cursor.execute(sqlite_select_Query)\n",
    "    #record = cursor.fetchall()\n",
    "    #print(\"SQLite Database Version is: \", record)\n",
    "     \n",
    "    cursor.execute(\"SELECT name FROM sqlite_master WHERE type='table' ORDER BY name;\")\n",
    "    available_table=(cursor.fetchall())\n",
    "    #for row in cur.execute('SELECT * FROM Order;'):\n",
    "    #    print(row)\n",
    "    #cursor.close()\n",
    "\n",
    "    #x=cursor.execute(\"SELECT * FROM sqlite_master where type='table'\")\n",
    "\n",
    "    #for y in x.fetchall():\n",
    "    #    print(y)\n",
    "\n",
    "except sqlite3.Error as error:\n",
    "    print(\"Error while connecting to sqlite\", error)\n",
    "    \n",
    "finally:\n",
    "    if (sqliteConnection):\n",
    "        sqliteConnection.close()\n",
    "        print(\"The SQLite connection is closed\")"
   ]
  },
  {
   "cell_type": "code",
   "execution_count": null,
   "metadata": {},
   "outputs": [],
   "source": []
  }
 ],
 "metadata": {
  "kernelspec": {
   "display_name": "Python 3",
   "language": "python",
   "name": "python3"
  },
  "language_info": {
   "codemirror_mode": {
    "name": "ipython",
    "version": 3
   },
   "file_extension": ".py",
   "mimetype": "text/x-python",
   "name": "python",
   "nbconvert_exporter": "python",
   "pygments_lexer": "ipython3",
   "version": "3.7.4"
  }
 },
 "nbformat": 4,
 "nbformat_minor": 2
}
